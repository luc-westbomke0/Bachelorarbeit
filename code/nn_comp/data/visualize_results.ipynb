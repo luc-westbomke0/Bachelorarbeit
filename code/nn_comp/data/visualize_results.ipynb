{
 "cells": [
  {
   "cell_type": "code",
   "execution_count": 1,
   "metadata": {},
   "outputs": [],
   "source": [
    "import numpy as np\n",
    "import torch\n",
    "import torch.nn as nn\n",
    "import matplotlib.pyplot as plt\n",
    "from torch.utils.data import DataLoader, TensorDataset"
   ]
  },
  {
   "cell_type": "code",
   "execution_count": 2,
   "metadata": {},
   "outputs": [],
   "source": [
    "device = torch.device(\"cuda\" if torch.cuda.is_available() else \"cpu\")"
   ]
  },
  {
   "cell_type": "code",
   "execution_count": 3,
   "metadata": {},
   "outputs": [],
   "source": [
    "# load data\n",
    "path_to_data = \"./reference/\"\n",
    "\n",
    "X_test = np.load(f\"{path_to_data}X.dat_test.npy\")\n",
    "Y_test = np.load(f\"{path_to_data}Y.dat_test.npy\")"
   ]
  },
  {
   "cell_type": "code",
   "execution_count": 4,
   "metadata": {},
   "outputs": [],
   "source": [
    "X_test_tensor = torch.tensor(X_test[:, np.newaxis], dtype=torch.float32, device=device)\n",
    "Y_test_tensor = torch.tensor(Y_test[:, np.newaxis], dtype=torch.float32, device=device)"
   ]
  },
  {
   "cell_type": "code",
   "execution_count": 5,
   "metadata": {},
   "outputs": [],
   "source": [
    "# create dataset\n",
    "test_data = TensorDataset(X_test_tensor, Y_test_tensor)\n",
    "\n",
    "batchsize = 64\n",
    "# batchsize = test_data.tensors[0].shape[0]\n",
    "test_loader = DataLoader(test_data, batch_size=batchsize, shuffle=True, drop_last=True)"
   ]
  },
  {
   "cell_type": "code",
   "execution_count": 6,
   "metadata": {},
   "outputs": [],
   "source": [
    "def createLevel3FullyConvDropoutNet(channels):\n",
    "\n",
    "    class Level3FullyConvDropoutNet(nn.Module):\n",
    "        def __init__(self):\n",
    "            super(Level3FullyConvDropoutNet, self).__init__()\n",
    "\n",
    "            # Encoder\n",
    "            self.encoder = nn.Sequential(\n",
    "                nn.Conv2d(1, channels[0], kernel_size=3, stride=1, padding=1),\n",
    "                nn.ReLU(),\n",
    "                nn.BatchNorm2d(channels[0]),\n",
    "                nn.Dropout2d(p=0.2),\n",
    "\n",
    "                nn.Conv2d(channels[0], channels[1], kernel_size=3, stride=1, padding=0),\n",
    "                nn.ReLU(),\n",
    "                nn.BatchNorm2d(channels[1]),\n",
    "                nn.Dropout2d(p=0.2),\n",
    "\n",
    "                nn.Conv2d(channels[1], channels[2], kernel_size=3, stride=1, padding=0),\n",
    "                nn.ReLU(),\n",
    "                nn.BatchNorm2d(channels[2]),\n",
    "            )\n",
    "            \n",
    "            # Decoder\n",
    "            self.decoder = nn.Sequential(\n",
    "                nn.ConvTranspose2d(channels[2], channels[1], kernel_size=3, stride=1, padding=0),\n",
    "                nn.ReLU(),\n",
    "                nn.BatchNorm2d(channels[1]),\n",
    "\n",
    "                nn.ConvTranspose2d(channels[1], channels[0], kernel_size=3, stride=1, padding=0),\n",
    "                nn.ReLU(),\n",
    "                nn.BatchNorm2d(channels[0]),\n",
    "\n",
    "                nn.ConvTranspose2d(channels[0], 1, kernel_size=3, stride=1, padding=1),\n",
    "                nn.ReLU(),\n",
    "            )\n",
    "\n",
    "        def forward(self, x: torch.Tensor):\n",
    "            x = self.encoder(x)\n",
    "            x = self.decoder(x)\n",
    "            return x\n",
    "\n",
    "    # Instantiate the network\n",
    "    net = Level3FullyConvDropoutNet()\n",
    "\n",
    "    # Loss function and optimizer\n",
    "    criterion = nn.MSELoss()\n",
    "    optimizer = torch.optim.Adam(net.parameters(), lr=1e-4, weight_decay=1e-2)\n",
    "\n",
    "    return net, criterion, optimizer"
   ]
  },
  {
   "cell_type": "code",
   "execution_count": 7,
   "metadata": {},
   "outputs": [
    {
     "data": {
      "text/plain": [
       "<All keys matched successfully>"
      ]
     },
     "execution_count": 7,
     "metadata": {},
     "output_type": "execute_result"
    }
   ],
   "source": [
    "channel_configuration = (15, 24, 33)\n",
    "net, _, _ = createLevel3FullyConvDropoutNet(channel_configuration)\n",
    "\n",
    "net.load_state_dict(\n",
    "    torch.load(\n",
    "        \"../archive/Level3FullyConvDropoutNet_99.6498/net.pt\",\n",
    "        weights_only=True,\n",
    "    )\n",
    ")"
   ]
  },
  {
   "cell_type": "code",
   "execution_count": 8,
   "metadata": {},
   "outputs": [
    {
     "data": {
      "text/plain": [
       "<All keys matched successfully>"
      ]
     },
     "execution_count": 8,
     "metadata": {},
     "output_type": "execute_result"
    }
   ],
   "source": [
    "# Create FCNN\n",
    "class LargeNNv2(nn.Module):\n",
    "    def __init__(self):\n",
    "        super(LargeNNv2, self).__init__()\n",
    "        self.fc1 = nn.Linear(49, 1235)\n",
    "        self.relu1 = nn.ReLU()\n",
    "        self.fc2 = nn.Linear(1235, 768)\n",
    "        self.relu2 = nn.ReLU()\n",
    "        self.fc3 = nn.Linear(768, 532)\n",
    "        self.relu3 = nn.ReLU()\n",
    "        self.fc4 = nn.Linear(532, 149)\n",
    "        self.relu4 = nn.ReLU()\n",
    "        self.fc5 = nn.Linear(149, 98)\n",
    "        self.relu5 = nn.ReLU()\n",
    "        self.fc6 = nn.Linear(98, 49)  # Output layer\n",
    "\n",
    "    def forward(self, x):\n",
    "        x = self.relu1(self.fc1(x))\n",
    "        x = self.relu2(self.fc2(x))\n",
    "        x = self.relu3(self.fc3(x))\n",
    "        x = self.relu4(self.fc4(x))\n",
    "        x = self.relu5(self.fc5(x))\n",
    "        x = self.fc6(x)\n",
    "        return x\n",
    "\n",
    "fcnn = LargeNNv2()\n",
    "\n",
    "fcnn.load_state_dict(torch.load(\"../reference/model/collaboratory/m_300.pth\", weights_only=True))"
   ]
  },
  {
   "cell_type": "code",
   "execution_count": 43,
   "metadata": {},
   "outputs": [
    {
     "data": {
      "image/png": "[encoded data removed]",
      "text/plain": [
       "<Figure size 1200x300 with 4 Axes>"
      ]
     },
     "metadata": {},
     "output_type": "display_data"
    }
   ],
   "source": [
    "import numpy as np\n",
    "import torch\n",
    "import matplotlib.pyplot as plt\n",
    "\n",
    "# **Manuell auswählbarer Index**\n",
    "selected_index = 17  # Hier den gewünschten Index eintragen\n",
    "\n",
    "# **Sicherstellen, dass der Index gültig ist**\n",
    "if selected_index >= len(X_test):\n",
    "    raise ValueError(f\"Der Index ist zu groß! Maximaler gültiger Index: {len(X_test)-1}\")\n",
    "\n",
    "# **Daten auf das richtige Gerät laden**\n",
    "X_selected = torch.tensor(X_test[selected_index:selected_index+1, np.newaxis], dtype=torch.float32, device=device)\n",
    "y_selected = torch.tensor(Y_test[selected_index:selected_index+1, np.newaxis], dtype=torch.float32, device=device)\n",
    "\n",
    "# **Modelle auf das richtige Gerät setzen**\n",
    "net.to(device)\n",
    "fcnn.to(device)\n",
    "net.eval()\n",
    "\n",
    "# **Vorhersagen berechnen**\n",
    "y_hat_fcae = net(X_selected).squeeze().detach().cpu().numpy()\n",
    "y_hat_fcnn = fcnn(X_selected.view(X_selected.shape[0], -1)).view(X_selected.shape).squeeze().detach().cpu().numpy()\n",
    "\n",
    "# **Plot erstellen (1 Zeile, 4 Spalten)**\n",
    "fig, axes = plt.subplots(1, 4, figsize=(12, 3))\n",
    "\n",
    "# **Eingabe-Labyrinth**\n",
    "axes[0].imshow(X_selected[0, 0].cpu().numpy(), cmap=\"cividis\")\n",
    "axes[0].set_title(f\"Eingabe\", fontsize=12)\n",
    "axes[0].axis(\"off\")\n",
    "\n",
    "# **Richtige Lösung**\n",
    "axes[1].imshow(y_selected[0, 0].cpu().numpy(), cmap=\"cividis\")\n",
    "axes[1].set_title(\"Richtige Lösung\", fontsize=12)\n",
    "axes[1].axis(\"off\")\n",
    "\n",
    "# **Vorhersage von FCNN**\n",
    "axes[2].imshow(y_hat_fcnn, cmap=\"cividis\")\n",
    "axes[2].set_title(\"FCNN Lösung\", fontsize=12)\n",
    "axes[2].axis(\"off\")\n",
    "\n",
    "# **Vorhersage von FCAE**\n",
    "axes[3].imshow(y_hat_fcae, cmap=\"cividis\")\n",
    "axes[3].set_title(\"FCAE Lösung\", fontsize=12)\n",
    "axes[3].axis(\"off\")\n",
    "\n",
    "# **Layout anpassen und speichern**\n",
    "plt.tight_layout()\n",
    "plt.savefig(f\"./Einzelnes_Labyrinth_{selected_index}.png\", bbox_inches=\"tight\", pad_inches=0)\n",
    "plt.show()\n"
   ]
  },
  {
   "cell_type": "code",
   "execution_count": null,
   "metadata": {},
   "outputs": [],
   "source": [
    "# 17, 8"
   ]
  }
 ],
 "metadata": {
  "kernelspec": {
   "display_name": ".venv",
   "language": "python",
   "name": "python3"
  },
  "language_info": {
   "codemirror_mode": {
    "name": "ipython",
    "version": 3
   },
   "file_extension": ".py",
   "mimetype": "text/x-python",
   "name": "python",
   "nbconvert_exporter": "python",
   "pygments_lexer": "ipython3",
   "version": "3.12.2"
  }
 },
 "nbformat": 4,
 "nbformat_minor": 2
}
