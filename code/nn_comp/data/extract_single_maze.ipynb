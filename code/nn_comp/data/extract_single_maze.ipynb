{
 "cells": [
  {
   "cell_type": "code",
   "execution_count": 1,
   "metadata": {},
   "outputs": [],
   "source": [
    "import numpy as np\n",
    "import torch\n",
    "import torch.nn as nn\n",
    "import pandas as pd\n",
    "import time\n",
    "from torch.utils.data import DataLoader, TensorDataset\n",
    "from tabulate import tabulate\n",
    "from torchinfo import summary\n",
    "\n",
    "%config InlineBackend.figure_formats = ['svg']\n",
    "import matplotlib.pyplot as plt\n",
    "%matplotlib inline"
   ]
  },
  {
   "cell_type": "code",
   "execution_count": 2,
   "metadata": {},
   "outputs": [],
   "source": [
    "device = torch.device(\"cuda\" if torch.cuda.is_available() else \"cpu\")"
   ]
  },
  {
   "cell_type": "code",
   "execution_count": 3,
   "metadata": {},
   "outputs": [],
   "source": [
    "# load data\n",
    "path_to_data = \"./reference/\"\n",
    "\n",
    "X_test = np.load(f\"{path_to_data}X.dat_test.npy\")\n",
    "Y_test = np.load(f\"{path_to_data}Y.dat_test.npy\")"
   ]
  },
  {
   "cell_type": "code",
   "execution_count": 4,
   "metadata": {},
   "outputs": [],
   "source": [
    "X_test_tensor = torch.tensor(X_test[:, np.newaxis], dtype=torch.float32, device=device)\n",
    "Y_test_tensor = torch.tensor(Y_test[:, np.newaxis], dtype=torch.float32, device=device)"
   ]
  },
  {
   "cell_type": "code",
   "execution_count": 5,
   "metadata": {},
   "outputs": [],
   "source": [
    "# create dataset\n",
    "test_data = TensorDataset(X_test_tensor, Y_test_tensor)\n",
    "\n",
    "batchsize = 64\n",
    "# batchsize = test_data.tensors[0].shape[0]\n",
    "test_loader = DataLoader(test_data, batch_size=batchsize, shuffle=True, drop_last=True)"
   ]
  },
  {
   "cell_type": "code",
   "execution_count": 6,
   "metadata": {},
   "outputs": [],
   "source": [
    "def createLevel3FullyConvDropoutNet(channels):\n",
    "\n",
    "    class Level3FullyConvDropoutNet(nn.Module):\n",
    "        def __init__(self):\n",
    "            super(Level3FullyConvDropoutNet, self).__init__()\n",
    "\n",
    "            # Encoder\n",
    "            self.encoder = nn.Sequential(\n",
    "                nn.Conv2d(1, channels[0], kernel_size=3, stride=1, padding=1),\n",
    "                nn.ReLU(),\n",
    "                nn.BatchNorm2d(channels[0]),\n",
    "                nn.Dropout2d(p=0.2),\n",
    "\n",
    "                nn.Conv2d(channels[0], channels[1], kernel_size=3, stride=1, padding=0),\n",
    "                nn.ReLU(),\n",
    "                nn.BatchNorm2d(channels[1]),\n",
    "                nn.Dropout2d(p=0.2),\n",
    "\n",
    "                nn.Conv2d(channels[1], channels[2], kernel_size=3, stride=1, padding=0),\n",
    "                nn.ReLU(),\n",
    "                nn.BatchNorm2d(channels[2]),\n",
    "            )\n",
    "            \n",
    "            # Decoder\n",
    "            self.decoder = nn.Sequential(\n",
    "                nn.ConvTranspose2d(channels[2], channels[1], kernel_size=3, stride=1, padding=0),\n",
    "                nn.ReLU(),\n",
    "                nn.BatchNorm2d(channels[1]),\n",
    "\n",
    "                nn.ConvTranspose2d(channels[1], channels[0], kernel_size=3, stride=1, padding=0),\n",
    "                nn.ReLU(),\n",
    "                nn.BatchNorm2d(channels[0]),\n",
    "\n",
    "                nn.ConvTranspose2d(channels[0], 1, kernel_size=3, stride=1, padding=1),\n",
    "                nn.ReLU(),\n",
    "            )\n",
    "\n",
    "        def forward(self, x: torch.Tensor):\n",
    "            x = self.encoder(x)\n",
    "            x = self.decoder(x)\n",
    "            return x\n",
    "\n",
    "    # Instantiate the network\n",
    "    net = Level3FullyConvDropoutNet()\n",
    "\n",
    "    # Loss function and optimizer\n",
    "    criterion = nn.MSELoss()\n",
    "    optimizer = torch.optim.Adam(net.parameters(), lr=1e-4, weight_decay=1e-2)\n",
    "\n",
    "    return net, criterion, optimizer"
   ]
  },
  {
   "cell_type": "code",
   "execution_count": 7,
   "metadata": {},
   "outputs": [
    {
     "data": {
      "text/plain": [
       "<All keys matched successfully>"
      ]
     },
     "execution_count": 7,
     "metadata": {},
     "output_type": "execute_result"
    }
   ],
   "source": [
    "channel_configuration = (15, 24, 33)\n",
    "net, _, _ = createLevel3FullyConvDropoutNet(channel_configuration)\n",
    "\n",
    "net.load_state_dict(\n",
    "    torch.load(\n",
    "        \"../archive/Level3FullyConvDropoutNet_99.6498/net.pt\",\n",
    "        weights_only=True,\n",
    "    )\n",
    ")"
   ]
  },
  {
   "cell_type": "code",
   "execution_count": null,
   "metadata": {},
   "outputs": [],
   "source": [
    "# Create FCNN\n",
    "class LargeNNv2(nn.Module):\n",
    "    def __init__(self):\n",
    "        super(LargeNNv2, self).__init__()\n",
    "        self.fc1 = nn.Linear(49, 1235)\n",
    "        self.relu1 = nn.ReLU()\n",
    "        self.fc2 = nn.Linear(1235, 768)\n",
    "        self.relu2 = nn.ReLU()\n",
    "        self.fc3 = nn.Linear(768, 532)\n",
    "        self.relu3 = nn.ReLU()\n",
    "        self.fc4 = nn.Linear(532, 149)\n",
    "        self.relu4 = nn.ReLU()\n",
    "        self.fc5 = nn.Linear(149, 98)\n",
    "        self.relu5 = nn.ReLU()\n",
    "        self.fc6 = nn.Linear(98, 49)  # Output layer\n",
    "\n",
    "    def forward(self, x):\n",
    "        x = self.relu1(self.fc1(x))\n",
    "        x = self.relu2(self.fc2(x))\n",
    "        x = self.relu3(self.fc3(x))\n",
    "        x = self.relu4(self.fc4(x))\n",
    "        x = self.relu5(self.fc5(x))\n",
    "        x = self.fc6(x)\n",
    "        return x\n",
    "\n",
    "fcnn = LargeNNv2()\n",
    "\n",
    "fcnn.load_state_dict(torch.load(\"../reference/model/collaboratory/m_300.pth\", weights_only=True))"
   ]
  },
  {
   "cell_type": "code",
   "execution_count": 8,
   "metadata": {},
   "outputs": [],
   "source": [
    "# Get a batch of data\n",
    "X, y = next(iter(test_loader))\n",
    "\n",
    "X = X.to(device)\n",
    "y = y.to(device)\n",
    "net.to(device)\n",
    "\n",
    "# Get the network's prediction\n",
    "y_hat = net(X).squeeze()\n",
    "\n",
    "\n",
    "# Create a matplotlib figure (3 columns: Input, Ground Truth, Prediction)\n",
    "# fig, axes = plt.subplots(num_samples, 3, figsize=(10, 8))\n",
    "\n",
    "# for i in range(num_samples):\n",
    "#     # Original data (input)\n",
    "#     axes[i, 0].imshow(X[i, 0].detach().cpu().numpy(), cmap=\"viridis\")\n",
    "#     axes[i, 0].set_title(f\"Input Maze {i+1}\")\n",
    "#     axes[i, 0].axis(\"off\")\n",
    "\n",
    "#     # Ground truth label\n",
    "#     axes[i, 1].imshow(y[i, 0].detach().cpu().numpy(), cmap=\"viridis\")\n",
    "#     axes[i, 1].set_title(f\"Ground Truth {i+1}\")\n",
    "#     axes[i, 1].axis(\"off\")\n",
    "\n",
    "#     # Predicted label (output from the network)\n",
    "#     axes[i, 2].imshow(y_hat[i, 0].detach().cpu().numpy(), cmap=\"viridis\")\n",
    "#     axes[i, 2].set_title(f\"Predicted Maze {i+1}\")\n",
    "#     axes[i, 2].axis(\"off\")"
   ]
  },
  {
   "cell_type": "code",
   "execution_count": 13,
   "metadata": {},
   "outputs": [
    {
     "data": {
      "image/svg+xml": [
       "<?xml version=\"1.0\" encoding=\"utf-8\" standalone=\"no\"?>\n",
       "<!DOCTYPE svg PUBLIC \"-//W3C//DTD SVG 1.1//EN\"\n",
       "  \"http://www.w3.org/Graphics/SVG/1.1/DTD/svg11.dtd\">\n",
       "<svg xmlns:xlink=\"http://www.w3.org/1999/xlink\" width=\"338.4pt\" height=\"338.4pt\" viewBox=\"0 0 338.4 338.4\" xmlns=\"http://www.w3.org/2000/svg\" version=\"1.1\">\n",
       " <metadata>\n",
       "  <rdf:RDF xmlns:dc=\"http://purl.org/dc/elements/1.1/\" xmlns:cc=\"http://creativecommons.org/ns#\" xmlns:rdf=\"http://www.w3.org/1999/02/22-rdf-syntax-ns#\">\n",
       "   <cc:Work>\n",
       "    <dc:type rdf:resource=\"http://purl.org/dc/dcmitype/StillImage\"/>\n",
       "    <dc:date>2025-01-31T09:51:17.997808</dc:date>\n",
       "    <dc:format>image/svg+xml</dc:format>\n",
       "    <dc:creator>\n",
       "     <cc:Agent>\n",
       "      <dc:title>Matplotlib v3.9.2, https://matplotlib.org/</dc:title>\n",
       "     </cc:Agent>\n",
       "    </dc:creator>\n",
       "   </cc:Work>\n",
       "  </rdf:RDF>\n",
       " </metadata>\n",
       " <defs>\n",
       "  <style type=\"text/css\">*{stroke-linejoin: round; stroke-linecap: butt}</style>\n",
       " </defs>\n",
       " <g id=\"figure_1\">\n",
       "  <g id=\"patch_1\">\n",
       "   <path d=\"M -0 338.4 \n",
       "L 338.4 338.4 \n",
       "L 338.4 0 \n",
       "L -0 0 \n",
       "z\n",
       "\" style=\"fill: #ffffff\"/>\n",
       "  </g>\n",
       "  <g id=\"axes_1\">\n",
       "   <g clip-path=\"url(#p36e312e0eb)\">\n",
       "    <image xlink:href=\"data:image/png;base64,\n",
       "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\" id=\"imaged0fa0bfc77\" transform=\"scale(1 -1) translate(0 -324)\" x=\"7.2\" y=\"-7.2\" width=\"324\" height=\"324\"/>\n",
       "   </g>\n",
       "  </g>\n",
       " </g>\n",
       " <defs>\n",
       "  <clipPath id=\"p36e312e0eb\">\n",
       "   <rect x=\"7.2\" y=\"7.2\" width=\"324\" height=\"324\"/>\n",
       "  </clipPath>\n",
       " </defs>\n",
       "</svg>\n"
      ],
      "text/plain": [
       "<Figure size 640x480 with 1 Axes>"
      ]
     },
     "metadata": {},
     "output_type": "display_data"
    }
   ],
   "source": [
    "# fig = plt.figure(frame_on=False)\n",
    "# ax = fig.add_axes([0, 0, 1, 1])\n",
    "# ax.axis('off')\n",
    "# ax.imshow(X.squeeze()[4].detach().cpu().numpy(), cmap=\"viridis\")\n",
    "\n",
    "plt.imshow(X.squeeze()[4].detach().cpu().numpy(), cmap=\"cividis\")\n",
    "plt.axis(\"off\")\n",
    "# Adjust layout\n",
    "plt.tight_layout()\n",
    "plt.savefig(\"./7xUnsolved.png\", bbox_inches=\"tight\", pad_inches=0)\n",
    "plt.show()"
   ]
  },
  {
   "cell_type": "code",
   "execution_count": 10,
   "metadata": {},
   "outputs": [],
   "source": [
    "# plt.figure(figsize=(20,20), frameon=False) # frameon=False solved it\n",
    "# ax = plt.gca()\n",
    "# ax.imshow(X.squeeze()[4].detach().cpu().numpy(), cmap=\"viridis\")\n",
    "# plt.axis('off')\n",
    "# plt.show()"
   ]
  }
 ],
 "metadata": {
  "kernelspec": {
   "display_name": ".venv",
   "language": "python",
   "name": "python3"
  },
  "language_info": {
   "codemirror_mode": {
    "name": "ipython",
    "version": 3
   },
   "file_extension": ".py",
   "mimetype": "text/x-python",
   "name": "python",
   "nbconvert_exporter": "python",
   "pygments_lexer": "ipython3",
   "version": "3.12.2"
  }
 },
 "nbformat": 4,
 "nbformat_minor": 2
}
